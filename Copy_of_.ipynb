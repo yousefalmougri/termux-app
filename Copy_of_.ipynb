{
  "nbformat": 4,
  "nbformat_minor": 0,
  "metadata": {
    "colab": {
      "provenance": [],
      "authorship_tag": "ABX9TyPct1d7tLk2jwaI6tp2o0W/",
      "include_colab_link": true
    },
    "kernelspec": {
      "name": "python3",
      "display_name": "Python 3"
    },
    "language_info": {
      "name": "python"
    }
  },
  "cells": [
    {
      "cell_type": "markdown",
      "metadata": {
        "id": "view-in-github",
        "colab_type": "text"
      },
      "source": [
        "<a href=\"https://colab.research.google.com/github/yousefalmougri/termux-app/blob/master/Copy_of_.ipynb\" target=\"_parent\"><img src=\"https://colab.research.google.com/assets/colab-badge.svg\" alt=\"Open In Colab\"/></a>"
      ]
    },
    {
      "cell_type": "code",
      "execution_count": null,
      "metadata": {
        "id": "zGADfikcDwFV"
      },
      "outputs": [],
      "source": [
        "\n",
        "totel_minutes =  input ( \"الرجاء إدخال عدد الدقائق: \\ n\" )\n",
        "int_minutes =  int ( totel_minutes )\n",
        "hours = int_minutes // 60\n",
        "minutes = int_minutes٪  60\n",
        "print ( f \"هذه الدورة هي:\"  +  str ( ساعات )  +  \"ساعات و \"  +  str ( بالدقائق )  +  \" بالدقائق الطويلة \" )"
      ]
    }
  ]
}